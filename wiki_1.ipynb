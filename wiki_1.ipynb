{
 "cells": [
  {
   "cell_type": "code",
   "execution_count": 1,
   "metadata": {},
   "outputs": [],
   "source": [
    "import bs4\n",
    "import requests\n",
    "import lxml"
   ]
  },
  {
   "cell_type": "code",
   "execution_count": 2,
   "metadata": {},
   "outputs": [],
   "source": [
    "respose = requests.get('https://en.wikipedia.org/wiki/Reliance_Industries')\n",
    "res = respose.text"
   ]
  },
  {
   "cell_type": "code",
   "execution_count": 3,
   "metadata": {},
   "outputs": [],
   "source": [
    "reliance = bs4.BeautifulSoup(res,'lxml')"
   ]
  },
  {
   "cell_type": "code",
   "execution_count": 8,
   "metadata": {},
   "outputs": [
    {
     "data": {
      "text/plain": [
       "'Reliance Industries Limited is an Indian multinational conglomerate company, headquartered in Mumbai. It has diverse businesses including energy, petrochemicals, natural gas, retail, telecommunications, mass media, and textiles. Reliance is one of the most profitable companies in India,[2] the largest publicly traded company in India by market capitalisation,[3] and the largest company in India as measured by revenue.[4] It is also the one of the top largest employer in India with 10,00,000 employees directly and indirectly in the world.[5][6] RIL has a market capitalisation of US$195 billion as of October 2022.[7][8]\\n'"
      ]
     },
     "execution_count": 8,
     "metadata": {},
     "output_type": "execute_result"
    }
   ],
   "source": [
    "reliance.select('p')[1].text"
   ]
  },
  {
   "cell_type": "code",
   "execution_count": 115,
   "metadata": {},
   "outputs": [],
   "source": [
    "response = requests.get('https://www.indmoney.com').text"
   ]
  },
  {
   "cell_type": "code",
   "execution_count": 116,
   "metadata": {},
   "outputs": [],
   "source": [
    "tesla = bs4.BeautifulSoup(response,'lxml')"
   ]
  },
  {
   "cell_type": "code",
   "execution_count": 117,
   "metadata": {},
   "outputs": [
    {
     "data": {
      "text/plain": [
       "[]"
      ]
     },
     "execution_count": 117,
     "metadata": {},
     "output_type": "execute_result"
    }
   ],
   "source": [
    "tesla.select('font-semibold text-xl')"
   ]
  },
  {
   "cell_type": "code",
   "execution_count": 120,
   "metadata": {},
   "outputs": [
    {
     "data": {
      "text/plain": [
       "'            www.indmoney.com        '"
      ]
     },
     "execution_count": 120,
     "metadata": {},
     "output_type": "execute_result"
    }
   ],
   "source": [
    "tesla.select('h1')[0].text.replace('\\n','')"
   ]
  },
  {
   "cell_type": "code",
   "execution_count": 2,
   "metadata": {},
   "outputs": [],
   "source": [
    "response1 = requests.get('https://upstox.com/')"
   ]
  },
  {
   "cell_type": "code",
   "execution_count": 3,
   "metadata": {},
   "outputs": [],
   "source": [
    "tesla = bs4.BeautifulSoup(response1.content,'lxml')"
   ]
  },
  {
   "cell_type": "code",
   "execution_count": 10,
   "metadata": {},
   "outputs": [
    {
     "data": {
      "text/plain": [
       "[]"
      ]
     },
     "execution_count": 10,
     "metadata": {},
     "output_type": "execute_result"
    }
   ],
   "source": [
    "tesla.find_all(attrs= {\"class\" : \"rupee-symbol\"})"
   ]
  },
  {
   "cell_type": "code",
   "execution_count": null,
   "metadata": {},
   "outputs": [],
   "source": [
    "tesla.select()"
   ]
  },
  {
   "cell_type": "code",
   "execution_count": null,
   "metadata": {},
   "outputs": [],
   "source": []
  },
  {
   "cell_type": "code",
   "execution_count": null,
   "metadata": {},
   "outputs": [],
   "source": []
  },
  {
   "cell_type": "code",
   "execution_count": 74,
   "metadata": {},
   "outputs": [
    {
     "data": {
      "text/html": [
       "<div>\n",
       "<style scoped>\n",
       "    .dataframe tbody tr th:only-of-type {\n",
       "        vertical-align: middle;\n",
       "    }\n",
       "\n",
       "    .dataframe tbody tr th {\n",
       "        vertical-align: top;\n",
       "    }\n",
       "\n",
       "    .dataframe thead th {\n",
       "        text-align: right;\n",
       "    }\n",
       "</style>\n",
       "<table border=\"1\" class=\"dataframe\">\n",
       "  <thead>\n",
       "    <tr style=\"text-align: right;\">\n",
       "      <th></th>\n",
       "      <th>Open</th>\n",
       "      <th>High</th>\n",
       "      <th>Low</th>\n",
       "      <th>Close</th>\n",
       "      <th>Volume</th>\n",
       "      <th>Dividends</th>\n",
       "      <th>Stock Splits</th>\n",
       "    </tr>\n",
       "    <tr>\n",
       "      <th>Date</th>\n",
       "      <th></th>\n",
       "      <th></th>\n",
       "      <th></th>\n",
       "      <th></th>\n",
       "      <th></th>\n",
       "      <th></th>\n",
       "      <th></th>\n",
       "    </tr>\n",
       "  </thead>\n",
       "  <tbody>\n",
       "    <tr>\n",
       "      <th>2022-10-06 00:00:00-04:00</th>\n",
       "      <td>247.929993</td>\n",
       "      <td>250.339996</td>\n",
       "      <td>246.080002</td>\n",
       "      <td>246.789993</td>\n",
       "      <td>20239900</td>\n",
       "      <td>0</td>\n",
       "      <td>0</td>\n",
       "    </tr>\n",
       "    <tr>\n",
       "      <th>2022-10-07 00:00:00-04:00</th>\n",
       "      <td>240.899994</td>\n",
       "      <td>241.320007</td>\n",
       "      <td>233.169998</td>\n",
       "      <td>234.240005</td>\n",
       "      <td>37732400</td>\n",
       "      <td>0</td>\n",
       "      <td>0</td>\n",
       "    </tr>\n",
       "    <tr>\n",
       "      <th>2022-10-10 00:00:00-04:00</th>\n",
       "      <td>233.050003</td>\n",
       "      <td>234.559998</td>\n",
       "      <td>226.729996</td>\n",
       "      <td>229.250000</td>\n",
       "      <td>29743600</td>\n",
       "      <td>0</td>\n",
       "      <td>0</td>\n",
       "    </tr>\n",
       "    <tr>\n",
       "      <th>2022-10-11 00:00:00-04:00</th>\n",
       "      <td>227.619995</td>\n",
       "      <td>229.059998</td>\n",
       "      <td>224.110001</td>\n",
       "      <td>225.410004</td>\n",
       "      <td>30474000</td>\n",
       "      <td>0</td>\n",
       "      <td>0</td>\n",
       "    </tr>\n",
       "    <tr>\n",
       "      <th>2022-10-12 00:00:00-04:00</th>\n",
       "      <td>225.399994</td>\n",
       "      <td>227.860001</td>\n",
       "      <td>223.960007</td>\n",
       "      <td>225.750000</td>\n",
       "      <td>21891300</td>\n",
       "      <td>0</td>\n",
       "      <td>0</td>\n",
       "    </tr>\n",
       "  </tbody>\n",
       "</table>\n",
       "</div>"
      ],
      "text/plain": [
       "                                 Open        High         Low       Close  \\\n",
       "Date                                                                        \n",
       "2022-10-06 00:00:00-04:00  247.929993  250.339996  246.080002  246.789993   \n",
       "2022-10-07 00:00:00-04:00  240.899994  241.320007  233.169998  234.240005   \n",
       "2022-10-10 00:00:00-04:00  233.050003  234.559998  226.729996  229.250000   \n",
       "2022-10-11 00:00:00-04:00  227.619995  229.059998  224.110001  225.410004   \n",
       "2022-10-12 00:00:00-04:00  225.399994  227.860001  223.960007  225.750000   \n",
       "\n",
       "                             Volume  Dividends  Stock Splits  \n",
       "Date                                                          \n",
       "2022-10-06 00:00:00-04:00  20239900          0             0  \n",
       "2022-10-07 00:00:00-04:00  37732400          0             0  \n",
       "2022-10-10 00:00:00-04:00  29743600          0             0  \n",
       "2022-10-11 00:00:00-04:00  30474000          0             0  \n",
       "2022-10-12 00:00:00-04:00  21891300          0             0  "
      ]
     },
     "execution_count": 74,
     "metadata": {},
     "output_type": "execute_result"
    }
   ],
   "source": [
    "import yfinance as yf\n",
    "msft = yf.Ticker(\"MSFT\")\n",
    "msft.history('5d')"
   ]
  },
  {
   "cell_type": "code",
   "execution_count": 10,
   "metadata": {},
   "outputs": [
    {
     "name": "stdout",
     "output_type": "stream",
     "text": [
      "Company Name:\n",
      "Last Price :\n"
     ]
    }
   ],
   "source": [
    "str = \"Company Name:\" \n",
    "str1 = \"Last Price :\" \n",
    "strr = str+'\\n'+str1\n",
    "print(strr)"
   ]
  },
  {
   "cell_type": "code",
   "execution_count": 8,
   "metadata": {},
   "outputs": [
    {
     "data": {
      "text/plain": [
       "'Company Name:\\nLast Price :'"
      ]
     },
     "execution_count": 8,
     "metadata": {},
     "output_type": "execute_result"
    }
   ],
   "source": [
    "strr"
   ]
  },
  {
   "cell_type": "code",
   "execution_count": 4,
   "metadata": {},
   "outputs": [
    {
     "name": "stdout",
     "output_type": "stream",
     "text": [
      "Collecting openpyxl\n",
      "  Downloading openpyxl-3.0.10-py2.py3-none-any.whl (242 kB)\n",
      "\u001b[2K     \u001b[38;2;114;156;31m━━━━━━━━━━━━━━━━━━━━━━━━━━━━━━━━━━━━━\u001b[0m \u001b[32m242.1/242.1 kB\u001b[0m \u001b[31m491.1 kB/s\u001b[0m eta \u001b[36m0:00:00\u001b[0m1m566.9 kB/s\u001b[0m eta \u001b[36m0:00:01\u001b[0m\n",
      "\u001b[?25hCollecting et-xmlfile\n",
      "  Downloading et_xmlfile-1.1.0-py3-none-any.whl (4.7 kB)\n",
      "Installing collected packages: et-xmlfile, openpyxl\n",
      "Successfully installed et-xmlfile-1.1.0 openpyxl-3.0.10\n"
     ]
    }
   ],
   "source": [
    "!pip install openpyxl"
   ]
  },
  {
   "cell_type": "code",
   "execution_count": 1,
   "metadata": {},
   "outputs": [],
   "source": [
    "import pandas as pd"
   ]
  },
  {
   "cell_type": "code",
   "execution_count": 2,
   "metadata": {},
   "outputs": [],
   "source": [
    "df = pd.read_csv('company_stock.csv')"
   ]
  },
  {
   "cell_type": "code",
   "execution_count": 3,
   "metadata": {},
   "outputs": [
    {
     "data": {
      "text/html": [
       "<div>\n",
       "<style scoped>\n",
       "    .dataframe tbody tr th:only-of-type {\n",
       "        vertical-align: middle;\n",
       "    }\n",
       "\n",
       "    .dataframe tbody tr th {\n",
       "        vertical-align: top;\n",
       "    }\n",
       "\n",
       "    .dataframe thead th {\n",
       "        text-align: right;\n",
       "    }\n",
       "</style>\n",
       "<table border=\"1\" class=\"dataframe\">\n",
       "  <thead>\n",
       "    <tr style=\"text-align: right;\">\n",
       "      <th></th>\n",
       "      <th>Company Name</th>\n",
       "      <th>Last Price</th>\n",
       "      <th>% Chg</th>\n",
       "      <th>52 wk</th>\n",
       "      <th>52 wk.1</th>\n",
       "      <th>Market Cap</th>\n",
       "    </tr>\n",
       "  </thead>\n",
       "  <tbody>\n",
       "    <tr>\n",
       "      <th>0</th>\n",
       "      <td>Reliance</td>\n",
       "      <td>2405.80</td>\n",
       "      <td>-1.09</td>\n",
       "      <td>2856.15</td>\n",
       "      <td>2180.00</td>\n",
       "      <td>1627711.23</td>\n",
       "    </tr>\n",
       "    <tr>\n",
       "      <th>1</th>\n",
       "      <td>TCS</td>\n",
       "      <td>3118.55</td>\n",
       "      <td>1.75</td>\n",
       "      <td>4043.00</td>\n",
       "      <td>2926.10</td>\n",
       "      <td>1141093.47</td>\n",
       "    </tr>\n",
       "    <tr>\n",
       "      <th>2</th>\n",
       "      <td>HDFC Bank</td>\n",
       "      <td>1415.00</td>\n",
       "      <td>-1.10</td>\n",
       "      <td>1725.00</td>\n",
       "      <td>1271.60</td>\n",
       "      <td>788149.20</td>\n",
       "    </tr>\n",
       "    <tr>\n",
       "      <th>3</th>\n",
       "      <td>Infosys</td>\n",
       "      <td>1462.65</td>\n",
       "      <td>0.79</td>\n",
       "      <td>1953.90</td>\n",
       "      <td>1355.00</td>\n",
       "      <td>615457.89</td>\n",
       "    </tr>\n",
       "    <tr>\n",
       "      <th>4</th>\n",
       "      <td>ICICI Bank</td>\n",
       "      <td>881.75</td>\n",
       "      <td>-0.09</td>\n",
       "      <td>936.65</td>\n",
       "      <td>642.15</td>\n",
       "      <td>614435.65</td>\n",
       "    </tr>\n",
       "    <tr>\n",
       "      <th>...</th>\n",
       "      <td>...</td>\n",
       "      <td>...</td>\n",
       "      <td>...</td>\n",
       "      <td>...</td>\n",
       "      <td>...</td>\n",
       "      <td>...</td>\n",
       "    </tr>\n",
       "    <tr>\n",
       "      <th>95</th>\n",
       "      <td>Hero Motocorp</td>\n",
       "      <td>2570.50</td>\n",
       "      <td>-2.07</td>\n",
       "      <td>2950.00</td>\n",
       "      <td>2146.85</td>\n",
       "      <td>51364.30</td>\n",
       "    </tr>\n",
       "    <tr>\n",
       "      <th>96</th>\n",
       "      <td>MOTHERSON</td>\n",
       "      <td>75.70</td>\n",
       "      <td>-1.30</td>\n",
       "      <td>171.87</td>\n",
       "      <td>68.50</td>\n",
       "      <td>51297.51</td>\n",
       "    </tr>\n",
       "    <tr>\n",
       "      <th>97</th>\n",
       "      <td>UPL</td>\n",
       "      <td>683.00</td>\n",
       "      <td>-1.08</td>\n",
       "      <td>848.00</td>\n",
       "      <td>607.50</td>\n",
       "      <td>51266.50</td>\n",
       "    </tr>\n",
       "    <tr>\n",
       "      <th>98</th>\n",
       "      <td>Schaeffler Ind</td>\n",
       "      <td>3268.10</td>\n",
       "      <td>-0.78</td>\n",
       "      <td>3969.85</td>\n",
       "      <td>1415.00</td>\n",
       "      <td>51081.60</td>\n",
       "    </tr>\n",
       "    <tr>\n",
       "      <th>99</th>\n",
       "      <td>Trent</td>\n",
       "      <td>1431.85</td>\n",
       "      <td>-1.30</td>\n",
       "      <td>1522.50</td>\n",
       "      <td>970.60</td>\n",
       "      <td>50900.47</td>\n",
       "    </tr>\n",
       "  </tbody>\n",
       "</table>\n",
       "<p>100 rows × 6 columns</p>\n",
       "</div>"
      ],
      "text/plain": [
       "      Company Name  Last Price  % Chg    52 wk  52 wk.1  Market Cap\n",
       "0         Reliance     2405.80  -1.09  2856.15  2180.00  1627711.23\n",
       "1              TCS     3118.55   1.75  4043.00  2926.10  1141093.47\n",
       "2        HDFC Bank     1415.00  -1.10  1725.00  1271.60   788149.20\n",
       "3          Infosys     1462.65   0.79  1953.90  1355.00   615457.89\n",
       "4       ICICI Bank      881.75  -0.09   936.65   642.15   614435.65\n",
       "..             ...         ...    ...      ...      ...         ...\n",
       "95   Hero Motocorp     2570.50  -2.07  2950.00  2146.85    51364.30\n",
       "96       MOTHERSON       75.70  -1.30   171.87    68.50    51297.51\n",
       "97             UPL      683.00  -1.08   848.00   607.50    51266.50\n",
       "98  Schaeffler Ind     3268.10  -0.78  3969.85  1415.00    51081.60\n",
       "99           Trent     1431.85  -1.30  1522.50   970.60    50900.47\n",
       "\n",
       "[100 rows x 6 columns]"
      ]
     },
     "execution_count": 3,
     "metadata": {},
     "output_type": "execute_result"
    }
   ],
   "source": [
    "df"
   ]
  },
  {
   "cell_type": "code",
   "execution_count": 10,
   "metadata": {},
   "outputs": [],
   "source": [
    "a = [i.lower for i in df['Company Name'].values]"
   ]
  },
  {
   "cell_type": "code",
   "execution_count": 11,
   "metadata": {},
   "outputs": [
    {
     "data": {
      "text/plain": [
       "[<function str.lower()>,\n",
       " <function str.lower()>,\n",
       " <function str.lower()>,\n",
       " <function str.lower()>,\n",
       " <function str.lower()>,\n",
       " <function str.lower()>,\n",
       " <function str.lower()>,\n",
       " <function str.lower()>,\n",
       " <function str.lower()>,\n",
       " <function str.lower()>,\n",
       " <function str.lower()>,\n",
       " <function str.lower()>,\n",
       " <function str.lower()>,\n",
       " <function str.lower()>,\n",
       " <function str.lower()>,\n",
       " <function str.lower()>,\n",
       " <function str.lower()>,\n",
       " <function str.lower()>,\n",
       " <function str.lower()>,\n",
       " <function str.lower()>,\n",
       " <function str.lower()>,\n",
       " <function str.lower()>,\n",
       " <function str.lower()>,\n",
       " <function str.lower()>,\n",
       " <function str.lower()>,\n",
       " <function str.lower()>,\n",
       " <function str.lower()>,\n",
       " <function str.lower()>,\n",
       " <function str.lower()>,\n",
       " <function str.lower()>,\n",
       " <function str.lower()>,\n",
       " <function str.lower()>,\n",
       " <function str.lower()>,\n",
       " <function str.lower()>,\n",
       " <function str.lower()>,\n",
       " <function str.lower()>,\n",
       " <function str.lower()>,\n",
       " <function str.lower()>,\n",
       " <function str.lower()>,\n",
       " <function str.lower()>,\n",
       " <function str.lower()>,\n",
       " <function str.lower()>,\n",
       " <function str.lower()>,\n",
       " <function str.lower()>,\n",
       " <function str.lower()>,\n",
       " <function str.lower()>,\n",
       " <function str.lower()>,\n",
       " <function str.lower()>,\n",
       " <function str.lower()>,\n",
       " <function str.lower()>,\n",
       " <function str.lower()>,\n",
       " <function str.lower()>,\n",
       " <function str.lower()>,\n",
       " <function str.lower()>,\n",
       " <function str.lower()>,\n",
       " <function str.lower()>,\n",
       " <function str.lower()>,\n",
       " <function str.lower()>,\n",
       " <function str.lower()>,\n",
       " <function str.lower()>,\n",
       " <function str.lower()>,\n",
       " <function str.lower()>,\n",
       " <function str.lower()>,\n",
       " <function str.lower()>,\n",
       " <function str.lower()>,\n",
       " <function str.lower()>,\n",
       " <function str.lower()>,\n",
       " <function str.lower()>,\n",
       " <function str.lower()>,\n",
       " <function str.lower()>,\n",
       " <function str.lower()>,\n",
       " <function str.lower()>,\n",
       " <function str.lower()>,\n",
       " <function str.lower()>,\n",
       " <function str.lower()>,\n",
       " <function str.lower()>,\n",
       " <function str.lower()>,\n",
       " <function str.lower()>,\n",
       " <function str.lower()>,\n",
       " <function str.lower()>,\n",
       " <function str.lower()>,\n",
       " <function str.lower()>,\n",
       " <function str.lower()>,\n",
       " <function str.lower()>,\n",
       " <function str.lower()>,\n",
       " <function str.lower()>,\n",
       " <function str.lower()>,\n",
       " <function str.lower()>,\n",
       " <function str.lower()>,\n",
       " <function str.lower()>,\n",
       " <function str.lower()>,\n",
       " <function str.lower()>,\n",
       " <function str.lower()>,\n",
       " <function str.lower()>,\n",
       " <function str.lower()>,\n",
       " <function str.lower()>,\n",
       " <function str.lower()>,\n",
       " <function str.lower()>,\n",
       " <function str.lower()>,\n",
       " <function str.lower()>]"
      ]
     },
     "execution_count": 11,
     "metadata": {},
     "output_type": "execute_result"
    }
   ],
   "source": [
    "a"
   ]
  },
  {
   "cell_type": "code",
   "execution_count": 19,
   "metadata": {},
   "outputs": [],
   "source": [
    "def lower(x):\n",
    "    y = x.lower()\n",
    "    return y\n"
   ]
  },
  {
   "cell_type": "code",
   "execution_count": 20,
   "metadata": {},
   "outputs": [
    {
     "data": {
      "text/plain": [
       "0           reliance\n",
       "1                tcs\n",
       "2          hdfc bank\n",
       "3            infosys\n",
       "4         icici bank\n",
       "           ...      \n",
       "95     hero motocorp\n",
       "96         motherson\n",
       "97               upl\n",
       "98    schaeffler ind\n",
       "99             trent\n",
       "Name: Company Name, Length: 100, dtype: object"
      ]
     },
     "execution_count": 20,
     "metadata": {},
     "output_type": "execute_result"
    }
   ],
   "source": [
    "df['Company Name'].apply(lambda x: lower(x))"
   ]
  },
  {
   "cell_type": "code",
   "execution_count": 29,
   "metadata": {},
   "outputs": [
    {
     "data": {
      "text/plain": [
       "0           reliance\n",
       "1                tcs\n",
       "2          hdfc bank\n",
       "3            infosys\n",
       "4         icici bank\n",
       "           ...      \n",
       "95     hero motocorp\n",
       "96         motherson\n",
       "97               upl\n",
       "98    schaeffler ind\n",
       "99             trent\n",
       "Name: Company Name, Length: 100, dtype: object"
      ]
     },
     "execution_count": 29,
     "metadata": {},
     "output_type": "execute_result"
    }
   ],
   "source": [
    "df['Company Name'].apply(lambda x: x.lower())"
   ]
  },
  {
   "cell_type": "code",
   "execution_count": 25,
   "metadata": {},
   "outputs": [
    {
     "name": "stdout",
     "output_type": "stream",
     "text": [
      "['reliance', 'tcs', 'hdfc bank', 'infosys', 'icici bank', 'hul', 'sbi', 'bharti airtel', 'bajaj finance', 'hdfc', 'itc', 'lic india', 'adani enterpris', 'kotak mahindra', 'adani trans', 'adani total gas', 'adani green ene', 'asian paints', 'avenue supermar', 'larsen', 'bajaj finserv', 'maruti suzuki', 'hcl tech', 'axis bank', 'titan company', 'sun pharma', 'wipro', 'nestle', 'ultratechcement', 'adani ports', 'ongc', 'jsw steel', 'ntpc', 'm&m', 'power grid corp', 'coal india', 'adani power', 'pidilite ind', 'tata motors', 'tata steel', 'sbi life insura', 'hind zinc', 'hdfc life', 'vedanta', 'grasim', 'bajaj auto', 'ambuja cements', 'tech mahindra', 'siemens', 'divis labs', 'eicher motors', 'adani wilmar', 'ioc', 'indusind bank', 'dabur india', 'hindalco', 'britannia', 'dlf', 'cipla', 'godrej consumer', 'havells india', 'sbi card', 'l&t infotech', 'hindustan aeron', 'bharat elec', 'shree cements', 'srf', 'bajaj holdings', 'icici prudentia', 'dr reddys labs', 'varun beverages', 'tata power', 'tata cons. prod', 'abb india', 'interglobe avi', 'bank of baroda', 'marico', 'bpcl', 'apollo hospital', 'united spirits', 'fsn e-co nykaa', 'berger paints', 'chola invest.', 'zomato', 'gail', 'irctc', 'page industries', 'jsw energy', 'icici lombard', 'mindtree', 'torrent pharma', 'tata elxsi', 'indus towers', 'tube investment', 'patanjali foods', 'hero motocorp', 'motherson', 'upl', 'schaeffler ind', 'trent']\n"
     ]
    }
   ],
   "source": [
    "a = []\n",
    "for i in df['Company Name'].values:\n",
    "    b = i.lower()\n",
    "    a.append(b)\n",
    "print(a)"
   ]
  },
  {
   "cell_type": "code",
   "execution_count": 33,
   "metadata": {},
   "outputs": [],
   "source": [
    "df['Company Name'] = pd.DataFrame(a, columns = ['Company Name'])"
   ]
  },
  {
   "cell_type": "code",
   "execution_count": 5,
   "metadata": {},
   "outputs": [],
   "source": [
    "import pandas as pd\n",
    "df=pd.read_csv(\"company_stock.csv\")   "
   ]
  },
  {
   "cell_type": "code",
   "execution_count": 6,
   "metadata": {},
   "outputs": [
    {
     "data": {
      "text/html": [
       "<div>\n",
       "<style scoped>\n",
       "    .dataframe tbody tr th:only-of-type {\n",
       "        vertical-align: middle;\n",
       "    }\n",
       "\n",
       "    .dataframe tbody tr th {\n",
       "        vertical-align: top;\n",
       "    }\n",
       "\n",
       "    .dataframe thead th {\n",
       "        text-align: right;\n",
       "    }\n",
       "</style>\n",
       "<table border=\"1\" class=\"dataframe\">\n",
       "  <thead>\n",
       "    <tr style=\"text-align: right;\">\n",
       "      <th></th>\n",
       "      <th>Company Name</th>\n",
       "      <th>Last Price</th>\n",
       "      <th>% Chg</th>\n",
       "      <th>52 wk</th>\n",
       "      <th>52 wk.1</th>\n",
       "      <th>Market Cap</th>\n",
       "    </tr>\n",
       "  </thead>\n",
       "  <tbody>\n",
       "    <tr>\n",
       "      <th>0</th>\n",
       "      <td>Reliance</td>\n",
       "      <td>2405.80</td>\n",
       "      <td>-1.09</td>\n",
       "      <td>2856.15</td>\n",
       "      <td>2180.00</td>\n",
       "      <td>1627711.23</td>\n",
       "    </tr>\n",
       "    <tr>\n",
       "      <th>1</th>\n",
       "      <td>TCS</td>\n",
       "      <td>3118.55</td>\n",
       "      <td>1.75</td>\n",
       "      <td>4043.00</td>\n",
       "      <td>2926.10</td>\n",
       "      <td>1141093.47</td>\n",
       "    </tr>\n",
       "    <tr>\n",
       "      <th>2</th>\n",
       "      <td>HDFC Bank</td>\n",
       "      <td>1415.00</td>\n",
       "      <td>-1.10</td>\n",
       "      <td>1725.00</td>\n",
       "      <td>1271.60</td>\n",
       "      <td>788149.20</td>\n",
       "    </tr>\n",
       "    <tr>\n",
       "      <th>3</th>\n",
       "      <td>Infosys</td>\n",
       "      <td>1462.65</td>\n",
       "      <td>0.79</td>\n",
       "      <td>1953.90</td>\n",
       "      <td>1355.00</td>\n",
       "      <td>615457.89</td>\n",
       "    </tr>\n",
       "    <tr>\n",
       "      <th>4</th>\n",
       "      <td>ICICI Bank</td>\n",
       "      <td>881.75</td>\n",
       "      <td>-0.09</td>\n",
       "      <td>936.65</td>\n",
       "      <td>642.15</td>\n",
       "      <td>614435.65</td>\n",
       "    </tr>\n",
       "    <tr>\n",
       "      <th>...</th>\n",
       "      <td>...</td>\n",
       "      <td>...</td>\n",
       "      <td>...</td>\n",
       "      <td>...</td>\n",
       "      <td>...</td>\n",
       "      <td>...</td>\n",
       "    </tr>\n",
       "    <tr>\n",
       "      <th>95</th>\n",
       "      <td>Hero Motocorp</td>\n",
       "      <td>2570.50</td>\n",
       "      <td>-2.07</td>\n",
       "      <td>2950.00</td>\n",
       "      <td>2146.85</td>\n",
       "      <td>51364.30</td>\n",
       "    </tr>\n",
       "    <tr>\n",
       "      <th>96</th>\n",
       "      <td>MOTHERSON</td>\n",
       "      <td>75.70</td>\n",
       "      <td>-1.30</td>\n",
       "      <td>171.87</td>\n",
       "      <td>68.50</td>\n",
       "      <td>51297.51</td>\n",
       "    </tr>\n",
       "    <tr>\n",
       "      <th>97</th>\n",
       "      <td>UPL</td>\n",
       "      <td>683.00</td>\n",
       "      <td>-1.08</td>\n",
       "      <td>848.00</td>\n",
       "      <td>607.50</td>\n",
       "      <td>51266.50</td>\n",
       "    </tr>\n",
       "    <tr>\n",
       "      <th>98</th>\n",
       "      <td>Schaeffler Ind</td>\n",
       "      <td>3268.10</td>\n",
       "      <td>-0.78</td>\n",
       "      <td>3969.85</td>\n",
       "      <td>1415.00</td>\n",
       "      <td>51081.60</td>\n",
       "    </tr>\n",
       "    <tr>\n",
       "      <th>99</th>\n",
       "      <td>Trent</td>\n",
       "      <td>1431.85</td>\n",
       "      <td>-1.30</td>\n",
       "      <td>1522.50</td>\n",
       "      <td>970.60</td>\n",
       "      <td>50900.47</td>\n",
       "    </tr>\n",
       "  </tbody>\n",
       "</table>\n",
       "<p>100 rows × 6 columns</p>\n",
       "</div>"
      ],
      "text/plain": [
       "      Company Name  Last Price  % Chg    52 wk  52 wk.1  Market Cap\n",
       "0         Reliance     2405.80  -1.09  2856.15  2180.00  1627711.23\n",
       "1              TCS     3118.55   1.75  4043.00  2926.10  1141093.47\n",
       "2        HDFC Bank     1415.00  -1.10  1725.00  1271.60   788149.20\n",
       "3          Infosys     1462.65   0.79  1953.90  1355.00   615457.89\n",
       "4       ICICI Bank      881.75  -0.09   936.65   642.15   614435.65\n",
       "..             ...         ...    ...      ...      ...         ...\n",
       "95   Hero Motocorp     2570.50  -2.07  2950.00  2146.85    51364.30\n",
       "96       MOTHERSON       75.70  -1.30   171.87    68.50    51297.51\n",
       "97             UPL      683.00  -1.08   848.00   607.50    51266.50\n",
       "98  Schaeffler Ind     3268.10  -0.78  3969.85  1415.00    51081.60\n",
       "99           Trent     1431.85  -1.30  1522.50   970.60    50900.47\n",
       "\n",
       "[100 rows x 6 columns]"
      ]
     },
     "execution_count": 6,
     "metadata": {},
     "output_type": "execute_result"
    }
   ],
   "source": [
    "df"
   ]
  },
  {
   "cell_type": "code",
   "execution_count": 7,
   "metadata": {},
   "outputs": [],
   "source": [
    "dd=df.loc[df[\"Company Name\"]==\"HDFC\",:]"
   ]
  },
  {
   "cell_type": "code",
   "execution_count": 8,
   "metadata": {},
   "outputs": [
    {
     "data": {
      "text/html": [
       "<div>\n",
       "<style scoped>\n",
       "    .dataframe tbody tr th:only-of-type {\n",
       "        vertical-align: middle;\n",
       "    }\n",
       "\n",
       "    .dataframe tbody tr th {\n",
       "        vertical-align: top;\n",
       "    }\n",
       "\n",
       "    .dataframe thead th {\n",
       "        text-align: right;\n",
       "    }\n",
       "</style>\n",
       "<table border=\"1\" class=\"dataframe\">\n",
       "  <thead>\n",
       "    <tr style=\"text-align: right;\">\n",
       "      <th></th>\n",
       "      <th>Company Name</th>\n",
       "      <th>Last Price</th>\n",
       "      <th>% Chg</th>\n",
       "      <th>52 wk</th>\n",
       "      <th>52 wk.1</th>\n",
       "      <th>Market Cap</th>\n",
       "    </tr>\n",
       "  </thead>\n",
       "  <tbody>\n",
       "    <tr>\n",
       "      <th>9</th>\n",
       "      <td>HDFC</td>\n",
       "      <td>2298.5</td>\n",
       "      <td>-1.22</td>\n",
       "      <td>3021.1</td>\n",
       "      <td>2026.0</td>\n",
       "      <td>417713.45</td>\n",
       "    </tr>\n",
       "  </tbody>\n",
       "</table>\n",
       "</div>"
      ],
      "text/plain": [
       "  Company Name  Last Price  % Chg   52 wk  52 wk.1  Market Cap\n",
       "9         HDFC      2298.5  -1.22  3021.1   2026.0   417713.45"
      ]
     },
     "execution_count": 8,
     "metadata": {},
     "output_type": "execute_result"
    }
   ],
   "source": [
    "dd"
   ]
  },
  {
   "cell_type": "code",
   "execution_count": 9,
   "metadata": {},
   "outputs": [],
   "source": [
    "strr_company = dd[\"Company Name\"].values[0]\n",
    "strr_price = int(dd[\"Last Price\"].values[0])"
   ]
  },
  {
   "cell_type": "code",
   "execution_count": 13,
   "metadata": {},
   "outputs": [
    {
     "data": {
      "text/plain": [
       "17.40644038294169"
      ]
     },
     "execution_count": 13,
     "metadata": {},
     "output_type": "execute_result"
    }
   ],
   "source": [
    "out = 40000 / strr_price\n",
    "out"
   ]
  },
  {
   "cell_type": "code",
   "execution_count": 28,
   "metadata": {},
   "outputs": [
    {
     "name": "stdout",
     "output_type": "stream",
     "text": [
      "100000\n",
      "150000\n",
      "200000\n",
      "250000\n",
      "300000\n",
      "350000\n",
      "400000\n",
      "450000\n",
      "500000\n",
      "550000\n",
      "600000\n",
      "650000\n",
      "700000\n",
      "750000\n",
      "800000\n",
      "850000\n",
      "900000\n",
      "950000\n"
     ]
    }
   ],
   "source": [
    "for i in range(100000,1000000,50000):\n",
    "    print(i)"
   ]
  },
  {
   "cell_type": "code",
   "execution_count": 26,
   "metadata": {},
   "outputs": [],
   "source": [
    "a = [i for i in range(100000,1000000,10000)]"
   ]
  },
  {
   "cell_type": "code",
   "execution_count": 25,
   "metadata": {},
   "outputs": [
    {
     "data": {
      "text/plain": [
       "[100000,\n",
       " 101000,\n",
       " 102000,\n",
       " 103000,\n",
       " 104000,\n",
       " 105000,\n",
       " 106000,\n",
       " 107000,\n",
       " 108000,\n",
       " 109000,\n",
       " 110000,\n",
       " 111000,\n",
       " 112000,\n",
       " 113000,\n",
       " 114000,\n",
       " 115000,\n",
       " 116000,\n",
       " 117000,\n",
       " 118000,\n",
       " 119000,\n",
       " 120000,\n",
       " 121000,\n",
       " 122000,\n",
       " 123000,\n",
       " 124000,\n",
       " 125000,\n",
       " 126000,\n",
       " 127000,\n",
       " 128000,\n",
       " 129000,\n",
       " 130000,\n",
       " 131000,\n",
       " 132000,\n",
       " 133000,\n",
       " 134000,\n",
       " 135000,\n",
       " 136000,\n",
       " 137000,\n",
       " 138000,\n",
       " 139000,\n",
       " 140000,\n",
       " 141000,\n",
       " 142000,\n",
       " 143000,\n",
       " 144000,\n",
       " 145000,\n",
       " 146000,\n",
       " 147000,\n",
       " 148000,\n",
       " 149000,\n",
       " 150000,\n",
       " 151000,\n",
       " 152000,\n",
       " 153000,\n",
       " 154000,\n",
       " 155000,\n",
       " 156000,\n",
       " 157000,\n",
       " 158000,\n",
       " 159000,\n",
       " 160000,\n",
       " 161000,\n",
       " 162000,\n",
       " 163000,\n",
       " 164000,\n",
       " 165000,\n",
       " 166000,\n",
       " 167000,\n",
       " 168000,\n",
       " 169000,\n",
       " 170000,\n",
       " 171000,\n",
       " 172000,\n",
       " 173000,\n",
       " 174000,\n",
       " 175000,\n",
       " 176000,\n",
       " 177000,\n",
       " 178000,\n",
       " 179000,\n",
       " 180000,\n",
       " 181000,\n",
       " 182000,\n",
       " 183000,\n",
       " 184000,\n",
       " 185000,\n",
       " 186000,\n",
       " 187000,\n",
       " 188000,\n",
       " 189000,\n",
       " 190000,\n",
       " 191000,\n",
       " 192000,\n",
       " 193000,\n",
       " 194000,\n",
       " 195000,\n",
       " 196000,\n",
       " 197000,\n",
       " 198000,\n",
       " 199000,\n",
       " 200000,\n",
       " 201000,\n",
       " 202000,\n",
       " 203000,\n",
       " 204000,\n",
       " 205000,\n",
       " 206000,\n",
       " 207000,\n",
       " 208000,\n",
       " 209000,\n",
       " 210000,\n",
       " 211000,\n",
       " 212000,\n",
       " 213000,\n",
       " 214000,\n",
       " 215000,\n",
       " 216000,\n",
       " 217000,\n",
       " 218000,\n",
       " 219000,\n",
       " 220000,\n",
       " 221000,\n",
       " 222000,\n",
       " 223000,\n",
       " 224000,\n",
       " 225000,\n",
       " 226000,\n",
       " 227000,\n",
       " 228000,\n",
       " 229000,\n",
       " 230000,\n",
       " 231000,\n",
       " 232000,\n",
       " 233000,\n",
       " 234000,\n",
       " 235000,\n",
       " 236000,\n",
       " 237000,\n",
       " 238000,\n",
       " 239000,\n",
       " 240000,\n",
       " 241000,\n",
       " 242000,\n",
       " 243000,\n",
       " 244000,\n",
       " 245000,\n",
       " 246000,\n",
       " 247000,\n",
       " 248000,\n",
       " 249000,\n",
       " 250000,\n",
       " 251000,\n",
       " 252000,\n",
       " 253000,\n",
       " 254000,\n",
       " 255000,\n",
       " 256000,\n",
       " 257000,\n",
       " 258000,\n",
       " 259000,\n",
       " 260000,\n",
       " 261000,\n",
       " 262000,\n",
       " 263000,\n",
       " 264000,\n",
       " 265000,\n",
       " 266000,\n",
       " 267000,\n",
       " 268000,\n",
       " 269000,\n",
       " 270000,\n",
       " 271000,\n",
       " 272000,\n",
       " 273000,\n",
       " 274000,\n",
       " 275000,\n",
       " 276000,\n",
       " 277000,\n",
       " 278000,\n",
       " 279000,\n",
       " 280000,\n",
       " 281000,\n",
       " 282000,\n",
       " 283000,\n",
       " 284000,\n",
       " 285000,\n",
       " 286000,\n",
       " 287000,\n",
       " 288000,\n",
       " 289000,\n",
       " 290000,\n",
       " 291000,\n",
       " 292000,\n",
       " 293000,\n",
       " 294000,\n",
       " 295000,\n",
       " 296000,\n",
       " 297000,\n",
       " 298000,\n",
       " 299000,\n",
       " 300000,\n",
       " 301000,\n",
       " 302000,\n",
       " 303000,\n",
       " 304000,\n",
       " 305000,\n",
       " 306000,\n",
       " 307000,\n",
       " 308000,\n",
       " 309000,\n",
       " 310000,\n",
       " 311000,\n",
       " 312000,\n",
       " 313000,\n",
       " 314000,\n",
       " 315000,\n",
       " 316000,\n",
       " 317000,\n",
       " 318000,\n",
       " 319000,\n",
       " 320000,\n",
       " 321000,\n",
       " 322000,\n",
       " 323000,\n",
       " 324000,\n",
       " 325000,\n",
       " 326000,\n",
       " 327000,\n",
       " 328000,\n",
       " 329000,\n",
       " 330000,\n",
       " 331000,\n",
       " 332000,\n",
       " 333000,\n",
       " 334000,\n",
       " 335000,\n",
       " 336000,\n",
       " 337000,\n",
       " 338000,\n",
       " 339000,\n",
       " 340000,\n",
       " 341000,\n",
       " 342000,\n",
       " 343000,\n",
       " 344000,\n",
       " 345000,\n",
       " 346000,\n",
       " 347000,\n",
       " 348000,\n",
       " 349000,\n",
       " 350000,\n",
       " 351000,\n",
       " 352000,\n",
       " 353000,\n",
       " 354000,\n",
       " 355000,\n",
       " 356000,\n",
       " 357000,\n",
       " 358000,\n",
       " 359000,\n",
       " 360000,\n",
       " 361000,\n",
       " 362000,\n",
       " 363000,\n",
       " 364000,\n",
       " 365000,\n",
       " 366000,\n",
       " 367000,\n",
       " 368000,\n",
       " 369000,\n",
       " 370000,\n",
       " 371000,\n",
       " 372000,\n",
       " 373000,\n",
       " 374000,\n",
       " 375000,\n",
       " 376000,\n",
       " 377000,\n",
       " 378000,\n",
       " 379000,\n",
       " 380000,\n",
       " 381000,\n",
       " 382000,\n",
       " 383000,\n",
       " 384000,\n",
       " 385000,\n",
       " 386000,\n",
       " 387000,\n",
       " 388000,\n",
       " 389000,\n",
       " 390000,\n",
       " 391000,\n",
       " 392000,\n",
       " 393000,\n",
       " 394000,\n",
       " 395000,\n",
       " 396000,\n",
       " 397000,\n",
       " 398000,\n",
       " 399000,\n",
       " 400000,\n",
       " 401000,\n",
       " 402000,\n",
       " 403000,\n",
       " 404000,\n",
       " 405000,\n",
       " 406000,\n",
       " 407000,\n",
       " 408000,\n",
       " 409000,\n",
       " 410000,\n",
       " 411000,\n",
       " 412000,\n",
       " 413000,\n",
       " 414000,\n",
       " 415000,\n",
       " 416000,\n",
       " 417000,\n",
       " 418000,\n",
       " 419000,\n",
       " 420000,\n",
       " 421000,\n",
       " 422000,\n",
       " 423000,\n",
       " 424000,\n",
       " 425000,\n",
       " 426000,\n",
       " 427000,\n",
       " 428000,\n",
       " 429000,\n",
       " 430000,\n",
       " 431000,\n",
       " 432000,\n",
       " 433000,\n",
       " 434000,\n",
       " 435000,\n",
       " 436000,\n",
       " 437000,\n",
       " 438000,\n",
       " 439000,\n",
       " 440000,\n",
       " 441000,\n",
       " 442000,\n",
       " 443000,\n",
       " 444000,\n",
       " 445000,\n",
       " 446000,\n",
       " 447000,\n",
       " 448000,\n",
       " 449000,\n",
       " 450000,\n",
       " 451000,\n",
       " 452000,\n",
       " 453000,\n",
       " 454000,\n",
       " 455000,\n",
       " 456000,\n",
       " 457000,\n",
       " 458000,\n",
       " 459000,\n",
       " 460000,\n",
       " 461000,\n",
       " 462000,\n",
       " 463000,\n",
       " 464000,\n",
       " 465000,\n",
       " 466000,\n",
       " 467000,\n",
       " 468000,\n",
       " 469000,\n",
       " 470000,\n",
       " 471000,\n",
       " 472000,\n",
       " 473000,\n",
       " 474000,\n",
       " 475000,\n",
       " 476000,\n",
       " 477000,\n",
       " 478000,\n",
       " 479000,\n",
       " 480000,\n",
       " 481000,\n",
       " 482000,\n",
       " 483000,\n",
       " 484000,\n",
       " 485000,\n",
       " 486000,\n",
       " 487000,\n",
       " 488000,\n",
       " 489000,\n",
       " 490000,\n",
       " 491000,\n",
       " 492000,\n",
       " 493000,\n",
       " 494000,\n",
       " 495000,\n",
       " 496000,\n",
       " 497000,\n",
       " 498000,\n",
       " 499000,\n",
       " 500000,\n",
       " 501000,\n",
       " 502000,\n",
       " 503000,\n",
       " 504000,\n",
       " 505000,\n",
       " 506000,\n",
       " 507000,\n",
       " 508000,\n",
       " 509000,\n",
       " 510000,\n",
       " 511000,\n",
       " 512000,\n",
       " 513000,\n",
       " 514000,\n",
       " 515000,\n",
       " 516000,\n",
       " 517000,\n",
       " 518000,\n",
       " 519000,\n",
       " 520000,\n",
       " 521000,\n",
       " 522000,\n",
       " 523000,\n",
       " 524000,\n",
       " 525000,\n",
       " 526000,\n",
       " 527000,\n",
       " 528000,\n",
       " 529000,\n",
       " 530000,\n",
       " 531000,\n",
       " 532000,\n",
       " 533000,\n",
       " 534000,\n",
       " 535000,\n",
       " 536000,\n",
       " 537000,\n",
       " 538000,\n",
       " 539000,\n",
       " 540000,\n",
       " 541000,\n",
       " 542000,\n",
       " 543000,\n",
       " 544000,\n",
       " 545000,\n",
       " 546000,\n",
       " 547000,\n",
       " 548000,\n",
       " 549000,\n",
       " 550000,\n",
       " 551000,\n",
       " 552000,\n",
       " 553000,\n",
       " 554000,\n",
       " 555000,\n",
       " 556000,\n",
       " 557000,\n",
       " 558000,\n",
       " 559000,\n",
       " 560000,\n",
       " 561000,\n",
       " 562000,\n",
       " 563000,\n",
       " 564000,\n",
       " 565000,\n",
       " 566000,\n",
       " 567000,\n",
       " 568000,\n",
       " 569000,\n",
       " 570000,\n",
       " 571000,\n",
       " 572000,\n",
       " 573000,\n",
       " 574000,\n",
       " 575000,\n",
       " 576000,\n",
       " 577000,\n",
       " 578000,\n",
       " 579000,\n",
       " 580000,\n",
       " 581000,\n",
       " 582000,\n",
       " 583000,\n",
       " 584000,\n",
       " 585000,\n",
       " 586000,\n",
       " 587000,\n",
       " 588000,\n",
       " 589000,\n",
       " 590000,\n",
       " 591000,\n",
       " 592000,\n",
       " 593000,\n",
       " 594000,\n",
       " 595000,\n",
       " 596000,\n",
       " 597000,\n",
       " 598000,\n",
       " 599000,\n",
       " 600000,\n",
       " 601000,\n",
       " 602000,\n",
       " 603000,\n",
       " 604000,\n",
       " 605000,\n",
       " 606000,\n",
       " 607000,\n",
       " 608000,\n",
       " 609000,\n",
       " 610000,\n",
       " 611000,\n",
       " 612000,\n",
       " 613000,\n",
       " 614000,\n",
       " 615000,\n",
       " 616000,\n",
       " 617000,\n",
       " 618000,\n",
       " 619000,\n",
       " 620000,\n",
       " 621000,\n",
       " 622000,\n",
       " 623000,\n",
       " 624000,\n",
       " 625000,\n",
       " 626000,\n",
       " 627000,\n",
       " 628000,\n",
       " 629000,\n",
       " 630000,\n",
       " 631000,\n",
       " 632000,\n",
       " 633000,\n",
       " 634000,\n",
       " 635000,\n",
       " 636000,\n",
       " 637000,\n",
       " 638000,\n",
       " 639000,\n",
       " 640000,\n",
       " 641000,\n",
       " 642000,\n",
       " 643000,\n",
       " 644000,\n",
       " 645000,\n",
       " 646000,\n",
       " 647000,\n",
       " 648000,\n",
       " 649000,\n",
       " 650000,\n",
       " 651000,\n",
       " 652000,\n",
       " 653000,\n",
       " 654000,\n",
       " 655000,\n",
       " 656000,\n",
       " 657000,\n",
       " 658000,\n",
       " 659000,\n",
       " 660000,\n",
       " 661000,\n",
       " 662000,\n",
       " 663000,\n",
       " 664000,\n",
       " 665000,\n",
       " 666000,\n",
       " 667000,\n",
       " 668000,\n",
       " 669000,\n",
       " 670000,\n",
       " 671000,\n",
       " 672000,\n",
       " 673000,\n",
       " 674000,\n",
       " 675000,\n",
       " 676000,\n",
       " 677000,\n",
       " 678000,\n",
       " 679000,\n",
       " 680000,\n",
       " 681000,\n",
       " 682000,\n",
       " 683000,\n",
       " 684000,\n",
       " 685000,\n",
       " 686000,\n",
       " 687000,\n",
       " 688000,\n",
       " 689000,\n",
       " 690000,\n",
       " 691000,\n",
       " 692000,\n",
       " 693000,\n",
       " 694000,\n",
       " 695000,\n",
       " 696000,\n",
       " 697000,\n",
       " 698000,\n",
       " 699000,\n",
       " 700000,\n",
       " 701000,\n",
       " 702000,\n",
       " 703000,\n",
       " 704000,\n",
       " 705000,\n",
       " 706000,\n",
       " 707000,\n",
       " 708000,\n",
       " 709000,\n",
       " 710000,\n",
       " 711000,\n",
       " 712000,\n",
       " 713000,\n",
       " 714000,\n",
       " 715000,\n",
       " 716000,\n",
       " 717000,\n",
       " 718000,\n",
       " 719000,\n",
       " 720000,\n",
       " 721000,\n",
       " 722000,\n",
       " 723000,\n",
       " 724000,\n",
       " 725000,\n",
       " 726000,\n",
       " 727000,\n",
       " 728000,\n",
       " 729000,\n",
       " 730000,\n",
       " 731000,\n",
       " 732000,\n",
       " 733000,\n",
       " 734000,\n",
       " 735000,\n",
       " 736000,\n",
       " 737000,\n",
       " 738000,\n",
       " 739000,\n",
       " 740000,\n",
       " 741000,\n",
       " 742000,\n",
       " 743000,\n",
       " 744000,\n",
       " 745000,\n",
       " 746000,\n",
       " 747000,\n",
       " 748000,\n",
       " 749000,\n",
       " 750000,\n",
       " 751000,\n",
       " 752000,\n",
       " 753000,\n",
       " 754000,\n",
       " 755000,\n",
       " 756000,\n",
       " 757000,\n",
       " 758000,\n",
       " 759000,\n",
       " 760000,\n",
       " 761000,\n",
       " 762000,\n",
       " 763000,\n",
       " 764000,\n",
       " 765000,\n",
       " 766000,\n",
       " 767000,\n",
       " 768000,\n",
       " 769000,\n",
       " 770000,\n",
       " 771000,\n",
       " 772000,\n",
       " 773000,\n",
       " 774000,\n",
       " 775000,\n",
       " 776000,\n",
       " 777000,\n",
       " 778000,\n",
       " 779000,\n",
       " 780000,\n",
       " 781000,\n",
       " 782000,\n",
       " 783000,\n",
       " 784000,\n",
       " 785000,\n",
       " 786000,\n",
       " 787000,\n",
       " 788000,\n",
       " 789000,\n",
       " 790000,\n",
       " 791000,\n",
       " 792000,\n",
       " 793000,\n",
       " 794000,\n",
       " 795000,\n",
       " 796000,\n",
       " 797000,\n",
       " 798000,\n",
       " 799000,\n",
       " 800000,\n",
       " 801000,\n",
       " 802000,\n",
       " 803000,\n",
       " 804000,\n",
       " 805000,\n",
       " 806000,\n",
       " 807000,\n",
       " 808000,\n",
       " 809000,\n",
       " 810000,\n",
       " 811000,\n",
       " 812000,\n",
       " 813000,\n",
       " 814000,\n",
       " 815000,\n",
       " 816000,\n",
       " 817000,\n",
       " 818000,\n",
       " 819000,\n",
       " 820000,\n",
       " 821000,\n",
       " 822000,\n",
       " 823000,\n",
       " 824000,\n",
       " 825000,\n",
       " 826000,\n",
       " 827000,\n",
       " 828000,\n",
       " 829000,\n",
       " 830000,\n",
       " 831000,\n",
       " 832000,\n",
       " 833000,\n",
       " 834000,\n",
       " 835000,\n",
       " 836000,\n",
       " 837000,\n",
       " 838000,\n",
       " 839000,\n",
       " 840000,\n",
       " 841000,\n",
       " 842000,\n",
       " 843000,\n",
       " 844000,\n",
       " 845000,\n",
       " 846000,\n",
       " 847000,\n",
       " 848000,\n",
       " 849000,\n",
       " 850000,\n",
       " 851000,\n",
       " 852000,\n",
       " 853000,\n",
       " 854000,\n",
       " 855000,\n",
       " 856000,\n",
       " 857000,\n",
       " 858000,\n",
       " 859000,\n",
       " 860000,\n",
       " 861000,\n",
       " 862000,\n",
       " 863000,\n",
       " 864000,\n",
       " 865000,\n",
       " 866000,\n",
       " 867000,\n",
       " 868000,\n",
       " 869000,\n",
       " 870000,\n",
       " 871000,\n",
       " 872000,\n",
       " 873000,\n",
       " 874000,\n",
       " 875000,\n",
       " 876000,\n",
       " 877000,\n",
       " 878000,\n",
       " 879000,\n",
       " 880000,\n",
       " 881000,\n",
       " 882000,\n",
       " 883000,\n",
       " 884000,\n",
       " 885000,\n",
       " 886000,\n",
       " 887000,\n",
       " 888000,\n",
       " 889000,\n",
       " 890000,\n",
       " 891000,\n",
       " 892000,\n",
       " 893000,\n",
       " 894000,\n",
       " 895000,\n",
       " 896000,\n",
       " 897000,\n",
       " 898000,\n",
       " 899000,\n",
       " 900000,\n",
       " 901000,\n",
       " 902000,\n",
       " 903000,\n",
       " 904000,\n",
       " 905000,\n",
       " 906000,\n",
       " 907000,\n",
       " 908000,\n",
       " 909000,\n",
       " 910000,\n",
       " 911000,\n",
       " 912000,\n",
       " 913000,\n",
       " 914000,\n",
       " 915000,\n",
       " 916000,\n",
       " 917000,\n",
       " 918000,\n",
       " 919000,\n",
       " 920000,\n",
       " 921000,\n",
       " 922000,\n",
       " 923000,\n",
       " 924000,\n",
       " 925000,\n",
       " 926000,\n",
       " 927000,\n",
       " 928000,\n",
       " 929000,\n",
       " 930000,\n",
       " 931000,\n",
       " 932000,\n",
       " 933000,\n",
       " 934000,\n",
       " 935000,\n",
       " 936000,\n",
       " 937000,\n",
       " 938000,\n",
       " 939000,\n",
       " 940000,\n",
       " 941000,\n",
       " 942000,\n",
       " 943000,\n",
       " 944000,\n",
       " 945000,\n",
       " 946000,\n",
       " 947000,\n",
       " 948000,\n",
       " 949000,\n",
       " 950000,\n",
       " 951000,\n",
       " 952000,\n",
       " 953000,\n",
       " 954000,\n",
       " 955000,\n",
       " 956000,\n",
       " 957000,\n",
       " 958000,\n",
       " 959000,\n",
       " 960000,\n",
       " 961000,\n",
       " 962000,\n",
       " 963000,\n",
       " 964000,\n",
       " 965000,\n",
       " 966000,\n",
       " 967000,\n",
       " 968000,\n",
       " 969000,\n",
       " 970000,\n",
       " 971000,\n",
       " 972000,\n",
       " 973000,\n",
       " 974000,\n",
       " 975000,\n",
       " 976000,\n",
       " 977000,\n",
       " 978000,\n",
       " 979000,\n",
       " 980000,\n",
       " 981000,\n",
       " 982000,\n",
       " 983000,\n",
       " 984000,\n",
       " 985000,\n",
       " 986000,\n",
       " 987000,\n",
       " 988000,\n",
       " 989000,\n",
       " 990000,\n",
       " 991000,\n",
       " 992000,\n",
       " 993000,\n",
       " 994000,\n",
       " 995000,\n",
       " 996000,\n",
       " 997000,\n",
       " 998000,\n",
       " 999000]"
      ]
     },
     "execution_count": 25,
     "metadata": {},
     "output_type": "execute_result"
    }
   ],
   "source": [
    "a"
   ]
  },
  {
   "cell_type": "code",
   "execution_count": 36,
   "metadata": {},
   "outputs": [],
   "source": [
    "df.to_csv('company_stocks_lower.csv')"
   ]
  },
  {
   "cell_type": "code",
   "execution_count": 7,
   "metadata": {},
   "outputs": [
    {
     "ename": "AttributeError",
     "evalue": "'Series' object has no attribute 'lower'",
     "output_type": "error",
     "traceback": [
      "\u001b[1;31m---------------------------------------------------------------------------\u001b[0m",
      "\u001b[1;31mAttributeError\u001b[0m                            Traceback (most recent call last)",
      "Cell \u001b[1;32mIn [7], line 1\u001b[0m\n\u001b[1;32m----> 1\u001b[0m df[\u001b[39m'\u001b[39;49m\u001b[39mCompany Name\u001b[39;49m\u001b[39m'\u001b[39;49m]\u001b[39m.\u001b[39;49mlower\n",
      "File \u001b[1;32mc:\\Users\\Santhosh\\anaconda3\\envs\\rasa\\lib\\site-packages\\pandas\\core\\generic.py:5907\u001b[0m, in \u001b[0;36mNDFrame.__getattr__\u001b[1;34m(self, name)\u001b[0m\n\u001b[0;32m   5900\u001b[0m \u001b[39mif\u001b[39;00m (\n\u001b[0;32m   5901\u001b[0m     name \u001b[39mnot\u001b[39;00m \u001b[39min\u001b[39;00m \u001b[39mself\u001b[39m\u001b[39m.\u001b[39m_internal_names_set\n\u001b[0;32m   5902\u001b[0m     \u001b[39mand\u001b[39;00m name \u001b[39mnot\u001b[39;00m \u001b[39min\u001b[39;00m \u001b[39mself\u001b[39m\u001b[39m.\u001b[39m_metadata\n\u001b[0;32m   5903\u001b[0m     \u001b[39mand\u001b[39;00m name \u001b[39mnot\u001b[39;00m \u001b[39min\u001b[39;00m \u001b[39mself\u001b[39m\u001b[39m.\u001b[39m_accessors\n\u001b[0;32m   5904\u001b[0m     \u001b[39mand\u001b[39;00m \u001b[39mself\u001b[39m\u001b[39m.\u001b[39m_info_axis\u001b[39m.\u001b[39m_can_hold_identifiers_and_holds_name(name)\n\u001b[0;32m   5905\u001b[0m ):\n\u001b[0;32m   5906\u001b[0m     \u001b[39mreturn\u001b[39;00m \u001b[39mself\u001b[39m[name]\n\u001b[1;32m-> 5907\u001b[0m \u001b[39mreturn\u001b[39;00m \u001b[39mobject\u001b[39;49m\u001b[39m.\u001b[39;49m\u001b[39m__getattribute__\u001b[39;49m(\u001b[39mself\u001b[39;49m, name)\n",
      "\u001b[1;31mAttributeError\u001b[0m: 'Series' object has no attribute 'lower'"
     ]
    }
   ],
   "source": [
    "df['Company Name'].values"
   ]
  },
  {
   "cell_type": "code",
   "execution_count": 22,
   "metadata": {},
   "outputs": [],
   "source": [
    "dd=df[df[\"Company Name\"]=='Reliance']"
   ]
  },
  {
   "cell_type": "code",
   "execution_count": 28,
   "metadata": {},
   "outputs": [
    {
     "data": {
      "text/plain": [
       "'Reliance'"
      ]
     },
     "execution_count": 28,
     "metadata": {},
     "output_type": "execute_result"
    }
   ],
   "source": [
    "dd[\"Company Name\"][0]"
   ]
  },
  {
   "cell_type": "code",
   "execution_count": null,
   "metadata": {},
   "outputs": [],
   "source": []
  },
  {
   "cell_type": "code",
   "execution_count": 29,
   "metadata": {},
   "outputs": [
    {
     "data": {
      "text/plain": [
       "array(['Reliance', 'TCS', 'HDFC Bank', 'Infosys', 'ICICI Bank', 'HUL',\n",
       "       'SBI', 'Bharti Airtel', 'Bajaj Finance', 'HDFC', 'ITC',\n",
       "       'LIC India', 'Adani Enterpris', 'Kotak Mahindra', 'Adani Trans',\n",
       "       'Adani Total Gas', 'Adani Green Ene', 'Asian Paints',\n",
       "       'Avenue Supermar', 'Larsen', 'Bajaj Finserv', 'Maruti Suzuki',\n",
       "       'HCL Tech', 'Axis Bank', 'Titan Company', 'Sun Pharma', 'Wipro',\n",
       "       'Nestle', 'UltraTechCement', 'Adani Ports', 'ONGC', 'JSW Steel',\n",
       "       'NTPC', 'M&M', 'Power Grid Corp', 'Coal India', 'Adani Power',\n",
       "       'Pidilite Ind', 'Tata Motors', 'Tata Steel', 'SBI Life Insura',\n",
       "       'Hind Zinc', 'HDFC Life', 'Vedanta', 'Grasim', 'Bajaj Auto',\n",
       "       'Ambuja Cements', 'Tech Mahindra', 'Siemens', 'Divis Labs',\n",
       "       'Eicher Motors', 'Adani Wilmar', 'IOC', 'IndusInd Bank',\n",
       "       'Dabur India', 'Hindalco', 'Britannia', 'DLF', 'Cipla',\n",
       "       'Godrej Consumer', 'Havells India', 'SBI Card', 'L&T Infotech',\n",
       "       'Hindustan Aeron', 'Bharat Elec', 'Shree Cements', 'SRF',\n",
       "       'Bajaj Holdings', 'ICICI Prudentia', 'Dr Reddys Labs',\n",
       "       'Varun Beverages', 'Tata Power', 'TATA Cons. Prod', 'ABB India',\n",
       "       'Interglobe Avi', 'Bank of Baroda', 'Marico', 'BPCL',\n",
       "       'Apollo Hospital', 'United Spirits', 'FSN E-Co Nykaa',\n",
       "       'Berger Paints', 'Chola Invest.', 'Zomato', 'GAIL', 'IRCTC',\n",
       "       'Page Industries', 'JSW Energy', 'ICICI Lombard', 'Mindtree',\n",
       "       'Torrent Pharma', 'Tata Elxsi', 'INDUS TOWERS', 'Tube Investment',\n",
       "       'Patanjali Foods', 'Hero Motocorp', 'MOTHERSON', 'UPL',\n",
       "       'Schaeffler Ind', 'Trent'], dtype=object)"
      ]
     },
     "execution_count": 29,
     "metadata": {},
     "output_type": "execute_result"
    }
   ],
   "source": [
    "df[\"Company Name\"].values"
   ]
  },
  {
   "cell_type": "code",
   "execution_count": 31,
   "metadata": {},
   "outputs": [
    {
     "name": "stdout",
     "output_type": "stream",
     "text": [
      "webcam\n",
      "Webcamnew\n"
     ]
    }
   ],
   "source": [
    "import re\n",
    "\n",
    "my_list = ['webcam', 'home', 'Space', 'Maybe later', 'Webcamnew']\n",
    "for item in my_list:\n",
    "    if re.match(\"WeBcaM\",item, flags=re.I): # re.I == re.IGNORECASE\n",
    "        print (item)"
   ]
  },
  {
   "cell_type": "code",
   "execution_count": 15,
   "metadata": {},
   "outputs": [
    {
     "data": {
      "text/plain": [
       "['Reliance']"
      ]
     },
     "execution_count": 15,
     "metadata": {},
     "output_type": "execute_result"
    }
   ],
   "source": [
    "ll = []\n",
    "def list_company():\n",
    "    for i in df['Company Name'].values:\n",
    "        ll.append(i)\n",
    "        return ll\n",
    "\n",
    "list_company()"
   ]
  },
  {
   "cell_type": "code",
   "execution_count": 3,
   "metadata": {},
   "outputs": [],
   "source": [
    "import rasa"
   ]
  },
  {
   "cell_type": "code",
   "execution_count": 6,
   "metadata": {},
   "outputs": [],
   "source": [
    "from rasa_sdk.events import Restarted"
   ]
  },
  {
   "cell_type": "code",
   "execution_count": 61,
   "metadata": {},
   "outputs": [],
   "source": [
    "from googlesearch import search"
   ]
  },
  {
   "cell_type": "code",
   "execution_count": 65,
   "metadata": {},
   "outputs": [],
   "source": [
    "ll=[]\n",
    "\n",
    "for i in search(\"Reliance \",num=5,stop=3):\n",
    "    ll.append(i)"
   ]
  },
  {
   "cell_type": "code",
   "execution_count": 66,
   "metadata": {},
   "outputs": [
    {
     "data": {
      "text/plain": [
       "['http://www.ril.com/',\n",
       " 'https://en.wikipedia.org/wiki/Reliance_Industries',\n",
       " 'https://www.business-standard.com/article/technology/reliance-jio-true-5g-what-is-it-availability-supported-devices-and-more-122101000469_1.html']"
      ]
     },
     "execution_count": 66,
     "metadata": {},
     "output_type": "execute_result"
    }
   ],
   "source": [
    "ll"
   ]
  },
  {
   "cell_type": "code",
   "execution_count": 67,
   "metadata": {},
   "outputs": [
    {
     "name": "stdout",
     "output_type": "stream",
     "text": [
      "https://en.wikipedia.org/wiki/Reliance_Industries\n"
     ]
    }
   ],
   "source": [
    "for i in ll:\n",
    "    if \"en.wikipedia.org\" in i:\n",
    "        print(i)"
   ]
  },
  {
   "cell_type": "code",
   "execution_count": 57,
   "metadata": {},
   "outputs": [],
   "source": [
    "def company_details(df,company_name):\n",
    "    dd=df.loc[df[\"Company Name\"]==company_name,:]\n",
    "    # print(dd[\"Company Name\"].values[0])\n",
    "    strr=\"Company Name:\"+dd[\"Company Name\"].values[0]+\"Last Price :\"+str(dd[\"Last Price\"].values[0])\n",
    "    print(strr)"
   ]
  },
  {
   "cell_type": "code",
   "execution_count": 58,
   "metadata": {},
   "outputs": [
    {
     "name": "stdout",
     "output_type": "stream",
     "text": [
      "Company Name:RelianceLast Price :2405.8\n"
     ]
    }
   ],
   "source": [
    "company_details(df,\"Reliance\")"
   ]
  },
  {
   "cell_type": "code",
   "execution_count": 60,
   "metadata": {},
   "outputs": [],
   "source": [
    "df.to_csv(\"/home/muthu/Rasa/company_stock.csv\")"
   ]
  },
  {
   "cell_type": "code",
   "execution_count": null,
   "metadata": {},
   "outputs": [],
   "source": [
    "sql =\"CREATE TABLE {} (company varchar(32) ,last_price float,perct_change float,ftw_high float,ftw_low float,market_cap float,about_company varchar(8000))\""
   ]
  },
  {
   "cell_type": "code",
   "execution_count": 5,
   "metadata": {},
   "outputs": [],
   "source": [
    "import pyodbc \n",
    "def database_create(first_name):\n",
    "    data_base = pyodbc.connect('Driver={SQL Server};'\n",
    "                      'Server=DESKTOP-LK0C0MK\\SQLEXPRESS;'\n",
    "                      'Database=connecting;'\n",
    "                      'Trusted_Connection=yes;')\n",
    "\n",
    "    cursor = data_base.cursor()\n",
    "    sql =\"CREATE TABLE {} (company varchar(32) ,last_price float,perct_change float,ftw_high float,ftw_low float,market_cap float,about_company varchar(8000))\"\n",
    "    cursor = data_base.execute(sql.format(first_name))\n",
    "\n",
    "    cursor.commit()\n",
    "    sql1 = 'select * from {}'\n",
    "    result=cursor.execute(sql1.format(first_name)).fetchall()\n",
    "    return result"
   ]
  },
  {
   "cell_type": "code",
   "execution_count": 8,
   "metadata": {},
   "outputs": [
    {
     "data": {
      "text/plain": [
       "[]"
      ]
     },
     "execution_count": 8,
     "metadata": {},
     "output_type": "execute_result"
    }
   ],
   "source": [
    "database_create('stock')"
   ]
  },
  {
   "cell_type": "code",
   "execution_count": 5,
   "metadata": {},
   "outputs": [],
   "source": [
    "import pyodbc \n",
    "def database_create(first_name):\n",
    "    data_base = pyodbc.connect('Driver={SQL Server};'\n",
    "                      'Server=DESKTOP-LK0C0MK\\SQLEXPRESS;'\n",
    "                      'Database=connecting;'\n",
    "                      'Trusted_Connection=yes;')\n",
    "\n",
    "    cursor = data_base.cursor()\n",
    "\n",
    "    cursor = data_base.execute(\"CREATE TABLE ? (company varchar(32) ,last_price float,perct_change float,ftw_high float,ftw_low float,market_cap float,about_company varchar(8000))\",first_name)\n",
    "\n",
    "    cursor.commit()\n",
    "\n",
    "    result=cursor.execute(\"select * from ?\",first_name).fetchall()\n",
    "    return result"
   ]
  },
  {
   "cell_type": "code",
   "execution_count": 6,
   "metadata": {},
   "outputs": [
    {
     "ename": "ProgrammingError",
     "evalue": "('42000', \"[42000] [Microsoft][ODBC SQL Server Driver][SQL Server]Incorrect syntax near '@P1'. (102) (SQLExecDirectW); [42000] [Microsoft][ODBC SQL Server Driver][SQL Server]Statement(s) could not be prepared. (8180)\")",
     "output_type": "error",
     "traceback": [
      "\u001b[1;31m---------------------------------------------------------------------------\u001b[0m",
      "\u001b[1;31mProgrammingError\u001b[0m                          Traceback (most recent call last)",
      "Cell \u001b[1;32mIn [6], line 1\u001b[0m\n\u001b[1;32m----> 1\u001b[0m database_create(\u001b[39m'\u001b[39;49m\u001b[39mstock_data1\u001b[39;49m\u001b[39m'\u001b[39;49m)\n",
      "Cell \u001b[1;32mIn [5], line 10\u001b[0m, in \u001b[0;36mdatabase_create\u001b[1;34m(first_name)\u001b[0m\n\u001b[0;32m      3\u001b[0m data_base \u001b[39m=\u001b[39m pyodbc\u001b[39m.\u001b[39mconnect(\u001b[39m'\u001b[39m\u001b[39mDriver=\u001b[39m\u001b[39m{\u001b[39m\u001b[39mSQL Server};\u001b[39m\u001b[39m'\u001b[39m\n\u001b[0;32m      4\u001b[0m                   \u001b[39m'\u001b[39m\u001b[39mServer=DESKTOP-LK0C0MK\u001b[39m\u001b[39m\\\u001b[39m\u001b[39mSQLEXPRESS;\u001b[39m\u001b[39m'\u001b[39m\n\u001b[0;32m      5\u001b[0m                   \u001b[39m'\u001b[39m\u001b[39mDatabase=connecting;\u001b[39m\u001b[39m'\u001b[39m\n\u001b[0;32m      6\u001b[0m                   \u001b[39m'\u001b[39m\u001b[39mTrusted_Connection=yes;\u001b[39m\u001b[39m'\u001b[39m)\n\u001b[0;32m      8\u001b[0m cursor \u001b[39m=\u001b[39m data_base\u001b[39m.\u001b[39mcursor()\n\u001b[1;32m---> 10\u001b[0m cursor \u001b[39m=\u001b[39m data_base\u001b[39m.\u001b[39;49mexecute(\u001b[39m\"\u001b[39;49m\u001b[39mCREATE TABLE ? (company varchar(32) ,last_price float,perct_change float,ftw_high float,ftw_low float,market_cap float,about_company varchar(8000))\u001b[39;49m\u001b[39m\"\u001b[39;49m,first_name)\n\u001b[0;32m     12\u001b[0m cursor\u001b[39m.\u001b[39mcommit()\n",
      "\u001b[1;31mProgrammingError\u001b[0m: ('42000', \"[42000] [Microsoft][ODBC SQL Server Driver][SQL Server]Incorrect syntax near '@P1'. (102) (SQLExecDirectW); [42000] [Microsoft][ODBC SQL Server Driver][SQL Server]Statement(s) could not be prepared. (8180)\")"
     ]
    }
   ],
   "source": [
    "database_create('stock_data1')"
   ]
  },
  {
   "cell_type": "code",
   "execution_count": null,
   "metadata": {},
   "outputs": [],
   "source": []
  },
  {
   "cell_type": "code",
   "execution_count": null,
   "metadata": {},
   "outputs": [],
   "source": []
  },
  {
   "cell_type": "code",
   "execution_count": 127,
   "metadata": {},
   "outputs": [],
   "source": [
    "import pyodbc \n",
    "def database_create():\n",
    "    data_base = pyodbc.connect('Driver={SQL Server};'\n",
    "                      'Server=DESKTOP-LK0C0MK\\SQLEXPRESS;'\n",
    "                      'Database=connecting;'\n",
    "                      'Trusted_Connection=yes;')\n",
    "\n",
    "    cursor = data_base.cursor()\n",
    "\n",
    "    cursor = data_base.execute('''\n",
    "\t\tCREATE TABLE vijay (\n",
    "\t\t\tcompany varchar(32) ,\n",
    "\t\t\tlast_price float,\n",
    "\t\t\tperct_change float,\n",
    "\t\t\tftw_high float,\n",
    "\t\t\tftw_low float,\n",
    "\t\t\tmarket_cap float,\n",
    "\t\t\tabout_company varchar(8000)\n",
    "\t\t\t)\n",
    "               ''')\n",
    "\n",
    "    cursor.commit()\n",
    "\n",
    "    result=cursor.execute(\"select * from vijay\").fetchall()\n",
    "    return result\n",
    " "
   ]
  },
  {
   "cell_type": "code",
   "execution_count": 128,
   "metadata": {},
   "outputs": [
    {
     "data": {
      "text/plain": [
       "[]"
      ]
     },
     "execution_count": 128,
     "metadata": {},
     "output_type": "execute_result"
    }
   ],
   "source": [
    "database_create()"
   ]
  },
  {
   "cell_type": "code",
   "execution_count": 25,
   "metadata": {},
   "outputs": [],
   "source": [
    "import pyodbc\n",
    "\n",
    "def database():\n",
    "    data_base=pyodbc.connect('Driver={SQL Server};'\n",
    "                    'Server=DESKTOP-LK0C0MK\\SQLEXPRESS;'\n",
    "                    'Database=connecting;'\n",
    "                    'Trusted_Connection=yes;')\n",
    "    cursor=data_base.cursor()\n",
    "    # result=db_cursor.execute(\"select * from medibot_database.dbo.appointment_table where appointment_no = ?\",appointment_no).fetchall()\n",
    "    result=cursor.execute(\"select * from stock_data\").fetchall()\n",
    "    return result"
   ]
  },
  {
   "cell_type": "code",
   "execution_count": 26,
   "metadata": {},
   "outputs": [
    {
     "data": {
      "text/plain": [
       "[('Reliance', 20.6, 5.02, 5.66, 66.33, 88.36, 'good'),\n",
       " ('Reliance', 20.6, 5.02, 5.66, 66.33, 88.36, 'good'),\n",
       " ('TCS', 30.0, 1.2, 50.0, 70.0, 80.0, 'Very good')]"
      ]
     },
     "execution_count": 26,
     "metadata": {},
     "output_type": "execute_result"
    }
   ],
   "source": [
    "database()"
   ]
  },
  {
   "cell_type": "code",
   "execution_count": 27,
   "metadata": {},
   "outputs": [],
   "source": [
    "import pyodbc\n",
    "\n",
    "def database():\n",
    "    data_base=pyodbc.connect('Driver={SQL Server};'\n",
    "                    'Server=DESKTOP-LK0C0MK\\SQLEXPRESS;'\n",
    "                    'Database=connecting;'\n",
    "                    'Trusted_Connection=yes;')\n",
    "    cursor=data_base.cursor()\n",
    "\n",
    "    sql = \"insert into stock_data(company,last_price,perct_change,ftw_high,ftw_low,market_cap,about_company) values (?,?,?,?,?,?,?)\"\n",
    "    val = (\"Reliance\",20.6,5.02,5.66,66.33,88.36,\"good\")\n",
    "    cursor = data_base.execute(sql, val)\n",
    "    cursor.commit()\n",
    "\n",
    "    result=cursor.execute(\"select * from stock_data\").fetchall()\n",
    "    return result "
   ]
  },
  {
   "cell_type": "code",
   "execution_count": 28,
   "metadata": {},
   "outputs": [
    {
     "data": {
      "text/plain": [
       "[('Reliance', 20.6, 5.02, 5.66, 66.33, 88.36, 'good'),\n",
       " ('Reliance', 20.6, 5.02, 5.66, 66.33, 88.36, 'good'),\n",
       " ('TCS', 30.0, 1.2, 50.0, 70.0, 80.0, 'Very good'),\n",
       " ('Reliance', 20.6, 5.02, 5.66, 66.33, 88.36, 'good')]"
      ]
     },
     "execution_count": 28,
     "metadata": {},
     "output_type": "execute_result"
    }
   ],
   "source": [
    "database()"
   ]
  },
  {
   "cell_type": "code",
   "execution_count": 29,
   "metadata": {},
   "outputs": [],
   "source": [
    "import pyodbc\n",
    "\n",
    "def database():\n",
    "    data_base=pyodbc.connect('Driver={SQL Server};'\n",
    "                    'Server=DESKTOP-LK0C0MK\\SQLEXPRESS;'\n",
    "                    'Database=connecting;'\n",
    "                    'Trusted_Connection=yes;')\n",
    "    cursor=data_base.cursor()\n",
    "\n",
    "    sql = \"insert into stock_data(company,last_price,perct_change,ftw_high,ftw_low,market_cap,about_company) values (?,?,?,?,?,?,?)\"\n",
    "    val = (\"TCS\",30,1.2,50,70,80,\"Very good\")\n",
    "    cursor = cursor.execute(sql, val)\n",
    "    cursor.commit()\n",
    "\n",
    "    result=cursor.execute(\"select * from stock_data\").fetchall()\n",
    "    return result "
   ]
  },
  {
   "cell_type": "code",
   "execution_count": 30,
   "metadata": {},
   "outputs": [
    {
     "data": {
      "text/plain": [
       "[('Reliance', 20.6, 5.02, 5.66, 66.33, 88.36, 'good'),\n",
       " ('Reliance', 20.6, 5.02, 5.66, 66.33, 88.36, 'good'),\n",
       " ('TCS', 30.0, 1.2, 50.0, 70.0, 80.0, 'Very good'),\n",
       " ('Reliance', 20.6, 5.02, 5.66, 66.33, 88.36, 'good'),\n",
       " ('TCS', 30.0, 1.2, 50.0, 70.0, 80.0, 'Very good')]"
      ]
     },
     "execution_count": 30,
     "metadata": {},
     "output_type": "execute_result"
    }
   ],
   "source": [
    "database()"
   ]
  },
  {
   "cell_type": "code",
   "execution_count": 40,
   "metadata": {},
   "outputs": [],
   "source": [
    "import pandas as pd "
   ]
  },
  {
   "cell_type": "code",
   "execution_count": 78,
   "metadata": {},
   "outputs": [],
   "source": [
    "strr0 = \"Reliance\"\n",
    "strr1 = \"1000\"\n",
    "strr2 = \"1.2\" \n",
    "strr3 = \"1026\"\n",
    "strr4 = \"963\"\n",
    "strr5 = \"1240512\""
   ]
  },
  {
   "cell_type": "code",
   "execution_count": 53,
   "metadata": {},
   "outputs": [],
   "source": [
    "df = pd.DataFrame([strr0], columns=['Comapany'])"
   ]
  },
  {
   "cell_type": "code",
   "execution_count": 54,
   "metadata": {},
   "outputs": [
    {
     "data": {
      "text/html": [
       "<div>\n",
       "<style scoped>\n",
       "    .dataframe tbody tr th:only-of-type {\n",
       "        vertical-align: middle;\n",
       "    }\n",
       "\n",
       "    .dataframe tbody tr th {\n",
       "        vertical-align: top;\n",
       "    }\n",
       "\n",
       "    .dataframe thead th {\n",
       "        text-align: right;\n",
       "    }\n",
       "</style>\n",
       "<table border=\"1\" class=\"dataframe\">\n",
       "  <thead>\n",
       "    <tr style=\"text-align: right;\">\n",
       "      <th></th>\n",
       "      <th>Comapany</th>\n",
       "    </tr>\n",
       "  </thead>\n",
       "  <tbody>\n",
       "    <tr>\n",
       "      <th>0</th>\n",
       "      <td>TCS</td>\n",
       "    </tr>\n",
       "  </tbody>\n",
       "</table>\n",
       "</div>"
      ],
      "text/plain": [
       "  Comapany\n",
       "0      TCS"
      ]
     },
     "execution_count": 54,
     "metadata": {},
     "output_type": "execute_result"
    }
   ],
   "source": [
    "df"
   ]
  },
  {
   "cell_type": "code",
   "execution_count": 72,
   "metadata": {},
   "outputs": [],
   "source": [
    "df = pd.DataFrame()\n",
    "df1 = pd.DataFrame()"
   ]
  },
  {
   "cell_type": "code",
   "execution_count": 79,
   "metadata": {},
   "outputs": [],
   "source": [
    "df1['Comapany'] = [strr0]\n",
    "df1['Last Price'] = [strr1]\n",
    "df1['% Chg'] = [strr2]\n",
    "df1['High'] = [strr3]\n",
    "df1['Low'] = [strr4]\n",
    "df1['Market cap'] = [strr5]"
   ]
  },
  {
   "cell_type": "code",
   "execution_count": 115,
   "metadata": {},
   "outputs": [
    {
     "data": {
      "text/html": [
       "<div>\n",
       "<style scoped>\n",
       "    .dataframe tbody tr th:only-of-type {\n",
       "        vertical-align: middle;\n",
       "    }\n",
       "\n",
       "    .dataframe tbody tr th {\n",
       "        vertical-align: top;\n",
       "    }\n",
       "\n",
       "    .dataframe thead th {\n",
       "        text-align: right;\n",
       "    }\n",
       "</style>\n",
       "<table border=\"1\" class=\"dataframe\">\n",
       "  <thead>\n",
       "    <tr style=\"text-align: right;\">\n",
       "      <th></th>\n",
       "      <th>Comapany</th>\n",
       "      <th>Last Price</th>\n",
       "      <th>% Chg</th>\n",
       "      <th>High</th>\n",
       "      <th>Low</th>\n",
       "      <th>Market cap</th>\n",
       "    </tr>\n",
       "  </thead>\n",
       "  <tbody>\n",
       "    <tr>\n",
       "      <th>0</th>\n",
       "      <td>Reliance</td>\n",
       "      <td>1000</td>\n",
       "      <td>1.2</td>\n",
       "      <td>1026</td>\n",
       "      <td>963</td>\n",
       "      <td>1240512</td>\n",
       "    </tr>\n",
       "  </tbody>\n",
       "</table>\n",
       "</div>"
      ],
      "text/plain": [
       "   Comapany Last Price % Chg  High  Low Market cap\n",
       "0  Reliance       1000   1.2  1026  963    1240512"
      ]
     },
     "execution_count": 115,
     "metadata": {},
     "output_type": "execute_result"
    }
   ],
   "source": [
    "df1"
   ]
  },
  {
   "cell_type": "code",
   "execution_count": 81,
   "metadata": {},
   "outputs": [],
   "source": [
    "df = pd.concat((df,df1),axis=0)"
   ]
  },
  {
   "cell_type": "code",
   "execution_count": 130,
   "metadata": {},
   "outputs": [
    {
     "data": {
      "text/html": [
       "<div>\n",
       "<style scoped>\n",
       "    .dataframe tbody tr th:only-of-type {\n",
       "        vertical-align: middle;\n",
       "    }\n",
       "\n",
       "    .dataframe tbody tr th {\n",
       "        vertical-align: top;\n",
       "    }\n",
       "\n",
       "    .dataframe thead th {\n",
       "        text-align: right;\n",
       "    }\n",
       "</style>\n",
       "<table border=\"1\" class=\"dataframe\">\n",
       "  <thead>\n",
       "    <tr style=\"text-align: right;\">\n",
       "      <th></th>\n",
       "      <th>Comapany</th>\n",
       "      <th>Last Price</th>\n",
       "      <th>% Chg</th>\n",
       "      <th>High</th>\n",
       "      <th>Low</th>\n",
       "      <th>Market cap</th>\n",
       "    </tr>\n",
       "  </thead>\n",
       "  <tbody>\n",
       "    <tr>\n",
       "      <th>0</th>\n",
       "      <td>TCS</td>\n",
       "      <td>1000</td>\n",
       "      <td>1.2</td>\n",
       "      <td>1026</td>\n",
       "      <td>963</td>\n",
       "      <td>1240512</td>\n",
       "    </tr>\n",
       "    <tr>\n",
       "      <th>0</th>\n",
       "      <td>Reliance</td>\n",
       "      <td>1000</td>\n",
       "      <td>1.2</td>\n",
       "      <td>1026</td>\n",
       "      <td>963</td>\n",
       "      <td>1240512</td>\n",
       "    </tr>\n",
       "  </tbody>\n",
       "</table>\n",
       "</div>"
      ],
      "text/plain": [
       "   Comapany Last Price % Chg  High  Low Market cap\n",
       "0       TCS       1000   1.2  1026  963    1240512\n",
       "0  Reliance       1000   1.2  1026  963    1240512"
      ]
     },
     "execution_count": 130,
     "metadata": {},
     "output_type": "execute_result"
    }
   ],
   "source": [
    "df"
   ]
  },
  {
   "cell_type": "code",
   "execution_count": 129,
   "metadata": {},
   "outputs": [
    {
     "data": {
      "text/plain": [
       "False"
      ]
     },
     "execution_count": 129,
     "metadata": {},
     "output_type": "execute_result"
    }
   ],
   "source": [
    "df.columns.str == 'o'"
   ]
  },
  {
   "cell_type": "code",
   "execution_count": 83,
   "metadata": {},
   "outputs": [],
   "source": [
    "import pickle"
   ]
  },
  {
   "cell_type": "code",
   "execution_count": 102,
   "metadata": {},
   "outputs": [
    {
     "name": "stdout",
     "output_type": "stream",
     "text": [
      "   Comapany Last Price % Chg  High  Low Market cap\n",
      "0       TCS       1000   1.2  1026  963    1240512\n",
      "0  Reliance       1000   1.2  1026  963    1240512\n"
     ]
    }
   ],
   "source": [
    "with open(r'C:\\Users\\Santhosh\\rasa\\actions\\database.pickle', \"wb\") as f:\n",
    "    pickle.dump(df, f)"
   ]
  },
  {
   "cell_type": "code",
   "execution_count": 109,
   "metadata": {},
   "outputs": [
    {
     "name": "stdout",
     "output_type": "stream",
     "text": [
      "   Comapany Last Price  % Chg     High     Low  Market cap\n",
      "0       TCS       1000    1.2     1026     963     1240512\n",
      "0  Reliance       1000    1.2     1026     963     1240512\n",
      "0       TCS    3118.55   1.75   4043.0  2926.1  1141093.47\n",
      "0  Reliance     2405.8  -1.09  2856.15  2180.0  1627711.23\n"
     ]
    }
   ],
   "source": [
    "with open(r'C:\\Users\\Santhosh\\rasa\\actions\\database.pickle', \"ab+\") as f:\n",
    "    f.seek(0)\n",
    "    print(pickle.load(f))"
   ]
  },
  {
   "cell_type": "code",
   "execution_count": 111,
   "metadata": {},
   "outputs": [],
   "source": [
    "a = pd.DataFrame(\n",
    "    columns= ['Comapany','Last Price','% Chg','High','Low','Market cap']\n",
    ")"
   ]
  },
  {
   "cell_type": "code",
   "execution_count": 112,
   "metadata": {},
   "outputs": [
    {
     "data": {
      "text/html": [
       "<div>\n",
       "<style scoped>\n",
       "    .dataframe tbody tr th:only-of-type {\n",
       "        vertical-align: middle;\n",
       "    }\n",
       "\n",
       "    .dataframe tbody tr th {\n",
       "        vertical-align: top;\n",
       "    }\n",
       "\n",
       "    .dataframe thead th {\n",
       "        text-align: right;\n",
       "    }\n",
       "</style>\n",
       "<table border=\"1\" class=\"dataframe\">\n",
       "  <thead>\n",
       "    <tr style=\"text-align: right;\">\n",
       "      <th></th>\n",
       "      <th>Comapany</th>\n",
       "      <th>Last Price</th>\n",
       "      <th>% Chg</th>\n",
       "      <th>High</th>\n",
       "      <th>Low</th>\n",
       "      <th>Market cap</th>\n",
       "    </tr>\n",
       "  </thead>\n",
       "  <tbody>\n",
       "  </tbody>\n",
       "</table>\n",
       "</div>"
      ],
      "text/plain": [
       "Empty DataFrame\n",
       "Columns: [Comapany, Last Price, % Chg, High, Low, Market cap]\n",
       "Index: []"
      ]
     },
     "execution_count": 112,
     "metadata": {},
     "output_type": "execute_result"
    }
   ],
   "source": [
    "a"
   ]
  },
  {
   "cell_type": "code",
   "execution_count": 118,
   "metadata": {},
   "outputs": [
    {
     "data": {
      "text/html": [
       "<div>\n",
       "<style scoped>\n",
       "    .dataframe tbody tr th:only-of-type {\n",
       "        vertical-align: middle;\n",
       "    }\n",
       "\n",
       "    .dataframe tbody tr th {\n",
       "        vertical-align: top;\n",
       "    }\n",
       "\n",
       "    .dataframe thead th {\n",
       "        text-align: right;\n",
       "    }\n",
       "</style>\n",
       "<table border=\"1\" class=\"dataframe\">\n",
       "  <thead>\n",
       "    <tr style=\"text-align: right;\">\n",
       "      <th></th>\n",
       "      <th>Comapany</th>\n",
       "      <th>Last Price</th>\n",
       "      <th>% Chg</th>\n",
       "      <th>High</th>\n",
       "      <th>Low</th>\n",
       "      <th>Market cap</th>\n",
       "    </tr>\n",
       "  </thead>\n",
       "  <tbody>\n",
       "    <tr>\n",
       "      <th>0</th>\n",
       "      <td>TCS</td>\n",
       "      <td>1000</td>\n",
       "      <td>1.2</td>\n",
       "      <td>1026</td>\n",
       "      <td>963</td>\n",
       "      <td>1240512</td>\n",
       "    </tr>\n",
       "    <tr>\n",
       "      <th>0</th>\n",
       "      <td>Reliance</td>\n",
       "      <td>1000</td>\n",
       "      <td>1.2</td>\n",
       "      <td>1026</td>\n",
       "      <td>963</td>\n",
       "      <td>1240512</td>\n",
       "    </tr>\n",
       "  </tbody>\n",
       "</table>\n",
       "</div>"
      ],
      "text/plain": [
       "   Comapany Last Price % Chg  High  Low Market cap\n",
       "0       TCS       1000   1.2  1026  963    1240512\n",
       "0  Reliance       1000   1.2  1026  963    1240512"
      ]
     },
     "execution_count": 118,
     "metadata": {},
     "output_type": "execute_result"
    }
   ],
   "source": [
    "df"
   ]
  },
  {
   "cell_type": "code",
   "execution_count": 116,
   "metadata": {},
   "outputs": [],
   "source": [
    "con = pd.concat((df,a),axis=0)"
   ]
  },
  {
   "cell_type": "code",
   "execution_count": 117,
   "metadata": {},
   "outputs": [
    {
     "data": {
      "text/html": [
       "<div>\n",
       "<style scoped>\n",
       "    .dataframe tbody tr th:only-of-type {\n",
       "        vertical-align: middle;\n",
       "    }\n",
       "\n",
       "    .dataframe tbody tr th {\n",
       "        vertical-align: top;\n",
       "    }\n",
       "\n",
       "    .dataframe thead th {\n",
       "        text-align: right;\n",
       "    }\n",
       "</style>\n",
       "<table border=\"1\" class=\"dataframe\">\n",
       "  <thead>\n",
       "    <tr style=\"text-align: right;\">\n",
       "      <th></th>\n",
       "      <th>Comapany</th>\n",
       "      <th>Last Price</th>\n",
       "      <th>% Chg</th>\n",
       "      <th>High</th>\n",
       "      <th>Low</th>\n",
       "      <th>Market cap</th>\n",
       "    </tr>\n",
       "  </thead>\n",
       "  <tbody>\n",
       "    <tr>\n",
       "      <th>0</th>\n",
       "      <td>TCS</td>\n",
       "      <td>1000</td>\n",
       "      <td>1.2</td>\n",
       "      <td>1026</td>\n",
       "      <td>963</td>\n",
       "      <td>1240512</td>\n",
       "    </tr>\n",
       "    <tr>\n",
       "      <th>0</th>\n",
       "      <td>Reliance</td>\n",
       "      <td>1000</td>\n",
       "      <td>1.2</td>\n",
       "      <td>1026</td>\n",
       "      <td>963</td>\n",
       "      <td>1240512</td>\n",
       "    </tr>\n",
       "  </tbody>\n",
       "</table>\n",
       "</div>"
      ],
      "text/plain": [
       "   Comapany Last Price % Chg  High  Low Market cap\n",
       "0       TCS       1000   1.2  1026  963    1240512\n",
       "0  Reliance       1000   1.2  1026  963    1240512"
      ]
     },
     "execution_count": 117,
     "metadata": {},
     "output_type": "execute_result"
    }
   ],
   "source": [
    "con"
   ]
  },
  {
   "cell_type": "code",
   "execution_count": 113,
   "metadata": {},
   "outputs": [],
   "source": [
    "with open ('muthu.pickle', \"wb\") as f:\n",
    "        pickle.dump(a,f)"
   ]
  },
  {
   "cell_type": "code",
   "execution_count": 114,
   "metadata": {},
   "outputs": [
    {
     "name": "stdout",
     "output_type": "stream",
     "text": [
      "Empty DataFrame\n",
      "Columns: [Comapany, Last Price, % Chg, High, Low, Market cap]\n",
      "Index: []\n"
     ]
    }
   ],
   "source": [
    "with open('muthu.pickle', \"ab+\") as f:\n",
    "    f.seek(0)\n",
    "    print(pickle.load(f))"
   ]
  },
  {
   "cell_type": "code",
   "execution_count": 17,
   "metadata": {},
   "outputs": [
    {
     "data": {
      "text/plain": [
       "'Mon_Oct_17_16_16_05_2022'"
      ]
     },
     "execution_count": 17,
     "metadata": {},
     "output_type": "execute_result"
    }
   ],
   "source": [
    "import time\n",
    "time.ctime().replace(\" \",\"_\").replace(\":\",\"_\")\n",
    "\n",
    "# time.ctime()"
   ]
  },
  {
   "cell_type": "code",
   "execution_count": 29,
   "metadata": {},
   "outputs": [],
   "source": [
    "a = {'entity': 'account_number', 'start': 13, 'end': 18, 'confidence_entity': 0.9971513152122498, 'value': '40000', 'extractor': 'DIETClassifier'}"
   ]
  },
  {
   "cell_type": "code",
   "execution_count": 30,
   "metadata": {},
   "outputs": [
    {
     "data": {
      "text/plain": [
       "{'entity': 'account_number',\n",
       " 'start': 13,\n",
       " 'end': 18,\n",
       " 'confidence_entity': 0.9971513152122498,\n",
       " 'value': '40000',\n",
       " 'extractor': 'DIETClassifier'}"
      ]
     },
     "execution_count": 30,
     "metadata": {},
     "output_type": "execute_result"
    }
   ],
   "source": [
    "a"
   ]
  },
  {
   "cell_type": "code",
   "execution_count": 35,
   "metadata": {},
   "outputs": [],
   "source": [
    "b = int(a['value'])"
   ]
  },
  {
   "cell_type": "code",
   "execution_count": 37,
   "metadata": {},
   "outputs": [
    {
     "data": {
      "text/plain": [
       "int"
      ]
     },
     "execution_count": 37,
     "metadata": {},
     "output_type": "execute_result"
    }
   ],
   "source": [
    "type(b)"
   ]
  },
  {
   "cell_type": "code",
   "execution_count": 19,
   "metadata": {},
   "outputs": [],
   "source": [
    "a ={\"wors\" : [\"Hi\",'Hello',\"Muthu\", \"organiastion\"]}"
   ]
  },
  {
   "cell_type": "code",
   "execution_count": 20,
   "metadata": {},
   "outputs": [
    {
     "data": {
      "text/plain": [
       "{'wors': ['Hi', 'Hello', 'Muthu', 'organiastion']}"
      ]
     },
     "execution_count": 20,
     "metadata": {},
     "output_type": "execute_result"
    }
   ],
   "source": [
    "a"
   ]
  },
  {
   "cell_type": "code",
   "execution_count": 11,
   "metadata": {},
   "outputs": [
    {
     "name": "stdout",
     "output_type": "stream",
     "text": [
      "{'Muthu', 'Hello', 'Hi', 'organiastion'}\n",
      "Muthu\n",
      "5\n",
      "Hello\n",
      "5\n",
      "5\n",
      "Hi\n",
      "5\n",
      "5\n",
      "2\n",
      "organiastion\n",
      "5\n",
      "5\n",
      "2\n",
      "12\n"
     ]
    }
   ],
   "source": [
    "ll= []\n",
    "long = ''\n",
    "for i in a.values():\n",
    "    print (i)\n",
    "    for j in i:\n",
    "        print(j)\n",
    "        ll.append(len(j))\n",
    "        for x in ll:\n",
    "            print(x)\n",
    "        if x == max(ll):\n",
    "            long=j\n"
   ]
  },
  {
   "cell_type": "code",
   "execution_count": 12,
   "metadata": {},
   "outputs": [
    {
     "data": {
      "text/plain": [
       "'organiastion'"
      ]
     },
     "execution_count": 12,
     "metadata": {},
     "output_type": "execute_result"
    }
   ],
   "source": [
    "long"
   ]
  },
  {
   "cell_type": "code",
   "execution_count": 9,
   "metadata": {},
   "outputs": [
    {
     "data": {
      "text/plain": [
       "[5, 5, 2, 12]"
      ]
     },
     "execution_count": 9,
     "metadata": {},
     "output_type": "execute_result"
    }
   ],
   "source": [
    "ll"
   ]
  },
  {
   "cell_type": "code",
   "execution_count": 13,
   "metadata": {},
   "outputs": [],
   "source": [
    "import numpy as np"
   ]
  },
  {
   "cell_type": "code",
   "execution_count": 40,
   "metadata": {},
   "outputs": [
    {
     "data": {
      "text/plain": [
       "'organiastion'"
      ]
     },
     "execution_count": 40,
     "metadata": {},
     "output_type": "execute_result"
    }
   ],
   "source": [
    "ll= []\n",
    "long = ''\n",
    "for i in a.values():\n",
    "    # print (i)\n",
    "    for j in i:\n",
    "        # print(j)\n",
    "        ll.append(len(j))\n",
    "\n",
    "ll = np.array(ll)\n",
    "long_len = np.where(ll==max(ll))[0][0]\n",
    "a['wors'][long_len]"
   ]
  },
  {
   "cell_type": "code",
   "execution_count": 41,
   "metadata": {},
   "outputs": [
    {
     "data": {
      "text/plain": [
       "3"
      ]
     },
     "execution_count": 41,
     "metadata": {},
     "output_type": "execute_result"
    }
   ],
   "source": [
    "long_len"
   ]
  },
  {
   "cell_type": "code",
   "execution_count": null,
   "metadata": {},
   "outputs": [],
   "source": []
  }
 ],
 "metadata": {
  "kernelspec": {
   "display_name": "Python 3.8.13 ('rasa')",
   "language": "python",
   "name": "python3"
  },
  "language_info": {
   "codemirror_mode": {
    "name": "ipython",
    "version": 3
   },
   "file_extension": ".py",
   "mimetype": "text/x-python",
   "name": "python",
   "nbconvert_exporter": "python",
   "pygments_lexer": "ipython3",
   "version": "3.8.13"
  },
  "orig_nbformat": 4,
  "vscode": {
   "interpreter": {
    "hash": "404899a797b0edc8faef5d251a8403781fcf9d4cd21b7cf25f1138fadc97d057"
   }
  }
 },
 "nbformat": 4,
 "nbformat_minor": 2
}
